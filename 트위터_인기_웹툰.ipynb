{
 "cells": [
  {
   "cell_type": "code",
   "execution_count": 1,
   "metadata": {},
   "outputs": [],
   "source": [
    "# 가담항설, 이영싫, 신의탑\n",
    "import GetOldTweets3 as got\n",
    "import datetime\n",
    "import time\n",
    "from random import uniform\n",
    "from tqdm import tqdm_notebook\n",
    "import pandas as pd\n",
    "import matplotlib.pyplot as plt"
   ]
  },
  {
   "cell_type": "code",
   "execution_count": 2,
   "metadata": {},
   "outputs": [],
   "source": [
    "def day():\n",
    "    global days_range\n",
    "    days_range = []\n",
    "    start_input = input()\n",
    "    end_input = input()\n",
    "    start = datetime.datetime.strptime(start_input, \"%Y-%m-%d\")\n",
    "    end = datetime.datetime.strptime(end_input, \"%Y-%m-%d\")\n",
    "    date_generated = [start + datetime.timedelta(days=x) for x in range(0, (end-start).days)]\n",
    "    \n",
    "    for date in date_generated:\n",
    "        days_range.append(date.strftime(\"%Y-%m-%d\"))\n",
    "        \n",
    "    print(\"=== 설정된 트윗 수집 기간은 {} 에서 {} 까지 입니다 ===\".format(days_range[0], days_range[-1]))\n",
    "    print(\"=== 총 {}일 간의 데이터 수집 ===\".format(len(days_range)))"
   ]
  },
  {
   "cell_type": "code",
   "execution_count": 3,
   "metadata": {},
   "outputs": [],
   "source": [
    "def tweetCriteria():\n",
    "    global tweet\n",
    "    \n",
    "    # 수집 기간 맞추기\n",
    "    start_date = days_range[0]\n",
    "    end_date = (datetime.datetime.strptime(days_range[-1], \"%Y-%m-%d\")\n",
    "               + datetime.timedelta(days=1)).strftime(\"%Y-%m-%d\")\n",
    "    \n",
    "    # 트윗 수집 기준 정의\n",
    "    search_input = input()\n",
    "    tweetCriteria = got.manager.TweetCriteria().setQuerySearch(search_input)\\\n",
    "                                           .setSince(start_date)\\\n",
    "                                           .setUntil(end_date)\\\n",
    "                                           .setMaxTweets(-1)\n",
    "    print(\"Collecting data start.. from {} to {}\".format(days_range[0], days_range[-1]))\n",
    "    start_time = time.time()\n",
    "    \n",
    "    tweet = got.manager.TweetManager.getTweets(tweetCriteria)\n",
    "    \n",
    "    # 수집 wirh GetOldTweet3\n",
    "    print(\"Collecting data end.. {0:0.2f} Minutes\".format((time.time() - start_time)/60))\n",
    "    print(\"=== Total num of tweets is {} ===\".format(len(tweet)))"
   ]
  },
  {
   "cell_type": "code",
   "execution_count": 4,
   "metadata": {},
   "outputs": [],
   "source": [
    "# 변수 저장하기\n",
    "# 유저 아이디, 트윗 링크, 트윗 내용, 날짜, 리트윗 수, 관심글 수 수집 가능\n",
    "# 원하는 변수 골라서 저장하기\n",
    "def crawling():\n",
    "    #initialize\n",
    "    global tweet_list\n",
    "    tweet_list = []\n",
    "    \n",
    "    for index in tqdm_notebook(tweet):\n",
    "        # 메타데이터 목록\n",
    "        # username = index.username\n",
    "        # link = index.permalink \n",
    "        content = index.text\n",
    "        tweet_date = index.date.strftime(\"%Y-%m-%d\")\n",
    "        # tweet_time = index.date.strftime(\"%H:%M:%S\")\n",
    "        # retweets = index.retweets\n",
    "        # favorites = index.favorites\n",
    "        \n",
    "        # 결과 합치기\n",
    "        info_list = [tweet_date, content]\n",
    "        tweet_list.append(info_list)\n",
    "        \n",
    "        # 휴식\n",
    "        time.sleep(uniform(1,2))"
   ]
  },
  {
   "cell_type": "code",
   "execution_count": 6,
   "metadata": {},
   "outputs": [
    {
     "name": "stdout",
     "output_type": "stream",
     "text": [
      "2019-08-07\n",
      "2019-08-17\n",
      "=== 설정된 트윗 수집 기간은 2019-08-07 에서 2019-08-16 까지 입니다 ===\n",
      "=== 총 10일 간의 데이터 수집 ===\n",
      "가담항설\n",
      "Collecting data start.. from 2019-08-07 to 2019-08-16\n",
      "Collecting data end.. 2.80 Minutes\n",
      "=== Total num of tweets is 1194 ===\n"
     ]
    },
    {
     "data": {
      "application/vnd.jupyter.widget-view+json": {
       "model_id": "86cf320f48c64e748bd80a578cbc3e29",
       "version_major": 2,
       "version_minor": 0
      },
      "text/plain": [
       "HBox(children=(IntProgress(value=0, max=1194), HTML(value='')))"
      ]
     },
     "metadata": {},
     "output_type": "display_data"
    }
   ],
   "source": [
    "day()\n",
    "tweetCriteria()\n",
    "crawling()"
   ]
  },
  {
   "cell_type": "code",
   "execution_count": 7,
   "metadata": {},
   "outputs": [
    {
     "name": "stdout",
     "output_type": "stream",
     "text": [
      "2019-08-07\n",
      "2019-08-17\n",
      "=== 설정된 트윗 수집 기간은 2019-08-07 에서 2019-08-16 까지 입니다 ===\n",
      "=== 총 10일 간의 데이터 수집 ===\n",
      "이영싫\n",
      "Collecting data start.. from 2019-08-07 to 2019-08-16\n",
      "Collecting data end.. 9.22 Minutes\n",
      "=== Total num of tweets is 3272 ===\n"
     ]
    },
    {
     "data": {
      "application/vnd.jupyter.widget-view+json": {
       "model_id": "28014c91741d49c8806bafece088a6da",
       "version_major": 2,
       "version_minor": 0
      },
      "text/plain": [
       "HBox(children=(IntProgress(value=0, max=3272), HTML(value='')))"
      ]
     },
     "metadata": {},
     "output_type": "display_data"
    }
   ],
   "source": [
    "day()\n",
    "tweetCriteria()\n",
    "crawling()"
   ]
  },
  {
   "cell_type": "code",
   "execution_count": 9,
   "metadata": {},
   "outputs": [
    {
     "name": "stdout",
     "output_type": "stream",
     "text": [
      "2019-08-07\n",
      "2019-08-17\n",
      "=== 설정된 트윗 수집 기간은 2019-08-07 에서 2019-08-16 까지 입니다 ===\n",
      "=== 총 10일 간의 데이터 수집 ===\n",
      "신의탑\n",
      "Collecting data start.. from 2019-08-07 to 2019-08-16\n",
      "Collecting data end.. 5.14 Minutes\n",
      "=== Total num of tweets is 1761 ===\n"
     ]
    },
    {
     "data": {
      "application/vnd.jupyter.widget-view+json": {
       "model_id": "00ce16bfd15141e89611b83dd3c18e38",
       "version_major": 2,
       "version_minor": 0
      },
      "text/plain": [
       "HBox(children=(IntProgress(value=0, max=1761), HTML(value='')))"
      ]
     },
     "metadata": {},
     "output_type": "display_data"
    }
   ],
   "source": [
    "day()\n",
    "tweetCriteria()\n",
    "crawling()"
   ]
  },
  {
   "cell_type": "code",
   "execution_count": null,
   "metadata": {},
   "outputs": [],
   "source": []
  }
 ],
 "metadata": {
  "kernelspec": {
   "display_name": "Python 3",
   "language": "python",
   "name": "python3"
  },
  "language_info": {
   "codemirror_mode": {
    "name": "ipython",
    "version": 3
   },
   "file_extension": ".py",
   "mimetype": "text/x-python",
   "name": "python",
   "nbconvert_exporter": "python",
   "pygments_lexer": "ipython3",
   "version": "3.7.3"
  }
 },
 "nbformat": 4,
 "nbformat_minor": 2
}
