{
 "cells": [
  {
   "cell_type": "code",
   "execution_count": 1,
   "metadata": {},
   "outputs": [],
   "source": [
    "import GetOldTweets3 as got\n",
    "import datetime\n",
    "import time\n",
    "import pandas as pd\n",
    "from random import uniform\n",
    "from tqdm import tqdm_notebook"
   ]
  },
  {
   "cell_type": "code",
   "execution_count": 2,
   "metadata": {},
   "outputs": [],
   "source": [
    "def day():\n",
    "    global days_range\n",
    "    days_range = []\n",
    "    start_input = input()\n",
    "    end_input = input()\n",
    "    start = datetime.datetime.strptime(start_input, \"%Y-%m-%d\")\n",
    "    end = datetime.datetime.strptime(end_input, \"%Y-%m-%d\")\n",
    "    date_generated = [start + datetime.timedelta(days=x) for x in range(0, (end-start).days)]\n",
    "    \n",
    "    for date in date_generated:\n",
    "        days_range.append(date.strftime(\"%Y-%m-%d\"))\n",
    "        \n",
    "    print(\"=== 설정된 트윗 수집 기간은 {} 에서 {} 까지 입니다 ===\".format(days_range[0], days_range[-1]))\n",
    "    print(\"=== 총 {}일 간의 데이터 수집 ===\".format(len(days_range)))"
   ]
  },
  {
   "cell_type": "code",
   "execution_count": 3,
   "metadata": {},
   "outputs": [],
   "source": [
    "def tweetCriteria():\n",
    "    global tweet\n",
    "    \n",
    "    start_date = days_range[0]\n",
    "    end_date = (datetime.datetime.strptime(days_range[-1], \"%Y-%m-%d\")\n",
    "               + datetime.timedelta(days=1)).strftime(\"%Y-%m-%d\")\n",
    "    search_input = input()\n",
    "    tweetCriteria = got.manager.TweetCriteria().setQuerySearch(search_input)\\\n",
    "                                           .setSince(start_date)\\\n",
    "                                           .setUntil(end_date)\\\n",
    "                                           .setMaxTweets(-1)\n",
    "    print(\"Collecting data start.. from {} to {}\".format(days_range[0], days_range[-1]))\n",
    "    start_time = time.time()\n",
    "    \n",
    "    tweet = got.manager.TweetManager.getTweets(tweetCriteria)\n",
    "    \n",
    "    print(\"Collecting data end.. {0:0.2f} Minutes\".format((time.time() - start_time)/60))\n",
    "    print(\"=== Total num of tweets is {} ===\".format(len(tweet)))"
   ]
  },
  {
   "cell_type": "code",
   "execution_count": 45,
   "metadata": {},
   "outputs": [
    {
     "name": "stdout",
     "output_type": "stream",
     "text": [
      "2019-06-01\n",
      "2019-08-19\n",
      "=== 설정된 트윗 수집 기간은 2019-06-01 에서 2019-08-18 까지 입니다 ===\n",
      "=== 총 79일 간의 데이터 수집 ===\n",
      "악마와 계약연애\n",
      "Collecting data start.. from 2019-06-01 to 2019-08-18\n",
      "Collecting data end.. 0.69 Minutes\n",
      "=== Total num of tweets is 214 ===\n",
      "8월의 눈보라\n",
      "Collecting data start.. from 2019-06-01 to 2019-08-18\n",
      "Collecting data end.. 0.14 Minutes\n",
      "=== Total num of tweets is 25 ===\n",
      "안녕,대학생\n",
      "Collecting data start.. from 2019-06-01 to 2019-08-18\n",
      "Collecting data end.. 0.75 Minutes\n",
      "=== Total num of tweets is 228 ===\n"
     ]
    }
   ],
   "source": [
    "# 하위 웹툰 3개월 언급 개수\n",
    "day()\n",
    "worst_1 = tweetCriteria()\n",
    "worst_2 = tweetCriteria()\n",
    "worst_3 = tweetCriteria()"
   ]
  },
  {
   "cell_type": "code",
   "execution_count": 10,
   "metadata": {},
   "outputs": [
    {
     "name": "stdout",
     "output_type": "stream",
     "text": [
      "2019-06-01\n",
      "2019-08-19\n",
      "=== 설정된 트윗 수집 기간은 2019-06-01 에서 2019-08-18 까지 입니다 ===\n",
      "=== 총 79일 간의 데이터 수집 ===\n",
      "연애혁명\n",
      "Collecting data start.. from 2019-06-01 to 2019-08-18\n",
      "Collecting data end.. 5.50 Minutes\n",
      "=== Total num of tweets is 1421 ===\n",
      "유미의 세포들\n",
      "Collecting data start.. from 2019-06-01 to 2019-08-18\n",
      "Collecting data end.. 5.30 Minutes\n",
      "=== Total num of tweets is 1294 ===\n",
      "여신강림\n",
      "Collecting data start.. from 2019-06-01 to 2019-08-18\n",
      "Collecting data end.. 22.45 Minutes\n",
      "=== Total num of tweets is 5773 ===\n"
     ]
    }
   ],
   "source": [
    "# 상위 웹툰 3개월 언급 개수\n",
    "day()\n",
    "best_1 = tweetCriteria()\n",
    "best_2 = tweetCriteria()\n",
    "best_3 = tweetCriteria()"
   ]
  },
  {
   "cell_type": "code",
   "execution_count": 46,
   "metadata": {},
   "outputs": [],
   "source": [
    "import pandas as pd\n",
    "from pandas import DataFrame as df\n",
    "import matplotlib.pyplot as plt\n",
    "import matplotlib as mpl\n",
    "%matplotlib inline\n",
    "\n",
    "Worst_df = df(data={'Worst_Name':['악마와 계약연애','8월의 눈보라','안녕,대학생'],\n",
    "                   'Amount':[214,25,228]})\n",
    "Best_df = df(data={'Best_Name':['연애혁명','유미의 세포들','여신강림'],\n",
    "                  'Amount':[1421,1294, 5773]})"
   ]
  },
  {
   "cell_type": "code",
   "execution_count": 47,
   "metadata": {},
   "outputs": [
    {
     "data": {
      "text/html": [
       "<div>\n",
       "<style scoped>\n",
       "    .dataframe tbody tr th:only-of-type {\n",
       "        vertical-align: middle;\n",
       "    }\n",
       "\n",
       "    .dataframe tbody tr th {\n",
       "        vertical-align: top;\n",
       "    }\n",
       "\n",
       "    .dataframe thead th {\n",
       "        text-align: right;\n",
       "    }\n",
       "</style>\n",
       "<table border=\"1\" class=\"dataframe\">\n",
       "  <thead>\n",
       "    <tr style=\"text-align: right;\">\n",
       "      <th></th>\n",
       "      <th>Worst_Name</th>\n",
       "      <th>Amount</th>\n",
       "    </tr>\n",
       "  </thead>\n",
       "  <tbody>\n",
       "    <tr>\n",
       "      <th>0</th>\n",
       "      <td>악마와 계약연애</td>\n",
       "      <td>214</td>\n",
       "    </tr>\n",
       "    <tr>\n",
       "      <th>1</th>\n",
       "      <td>8월의 눈보라</td>\n",
       "      <td>25</td>\n",
       "    </tr>\n",
       "    <tr>\n",
       "      <th>2</th>\n",
       "      <td>안녕,대학생</td>\n",
       "      <td>228</td>\n",
       "    </tr>\n",
       "  </tbody>\n",
       "</table>\n",
       "</div>"
      ],
      "text/plain": [
       "  Worst_Name  Amount\n",
       "0   악마와 계약연애     214\n",
       "1    8월의 눈보라      25\n",
       "2     안녕,대학생     228"
      ]
     },
     "execution_count": 47,
     "metadata": {},
     "output_type": "execute_result"
    }
   ],
   "source": [
    "Worst_df"
   ]
  },
  {
   "cell_type": "code",
   "execution_count": 48,
   "metadata": {},
   "outputs": [
    {
     "data": {
      "text/html": [
       "<div>\n",
       "<style scoped>\n",
       "    .dataframe tbody tr th:only-of-type {\n",
       "        vertical-align: middle;\n",
       "    }\n",
       "\n",
       "    .dataframe tbody tr th {\n",
       "        vertical-align: top;\n",
       "    }\n",
       "\n",
       "    .dataframe thead th {\n",
       "        text-align: right;\n",
       "    }\n",
       "</style>\n",
       "<table border=\"1\" class=\"dataframe\">\n",
       "  <thead>\n",
       "    <tr style=\"text-align: right;\">\n",
       "      <th></th>\n",
       "      <th>Best_Name</th>\n",
       "      <th>Amount</th>\n",
       "    </tr>\n",
       "  </thead>\n",
       "  <tbody>\n",
       "    <tr>\n",
       "      <th>0</th>\n",
       "      <td>연애혁명</td>\n",
       "      <td>1421</td>\n",
       "    </tr>\n",
       "    <tr>\n",
       "      <th>1</th>\n",
       "      <td>유미의 세포들</td>\n",
       "      <td>1294</td>\n",
       "    </tr>\n",
       "    <tr>\n",
       "      <th>2</th>\n",
       "      <td>여신강림</td>\n",
       "      <td>5773</td>\n",
       "    </tr>\n",
       "  </tbody>\n",
       "</table>\n",
       "</div>"
      ],
      "text/plain": [
       "  Best_Name  Amount\n",
       "0      연애혁명    1421\n",
       "1   유미의 세포들    1294\n",
       "2      여신강림    5773"
      ]
     },
     "execution_count": 48,
     "metadata": {},
     "output_type": "execute_result"
    }
   ],
   "source": [
    "Best_df"
   ]
  },
  {
   "cell_type": "code",
   "execution_count": null,
   "metadata": {},
   "outputs": [],
   "source": []
  }
 ],
 "metadata": {
  "kernelspec": {
   "display_name": "Python 3",
   "language": "python",
   "name": "python3"
  },
  "language_info": {
   "codemirror_mode": {
    "name": "ipython",
    "version": 3
   },
   "file_extension": ".py",
   "mimetype": "text/x-python",
   "name": "python",
   "nbconvert_exporter": "python",
   "pygments_lexer": "ipython3",
   "version": "3.7.3"
  }
 },
 "nbformat": 4,
 "nbformat_minor": 2
}
